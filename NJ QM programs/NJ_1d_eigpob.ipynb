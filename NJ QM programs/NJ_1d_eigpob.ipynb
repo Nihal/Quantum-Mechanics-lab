{
  "cells": [
    {
      "cell_type": "markdown",
      "metadata": {
        "id": "s4-movXRy5o5"
      },
      "source": [
        "# Solving the 1-D Eigenvalue Equation  \n",
        "$$ -\\frac{\\hbar^2}{2m} \\frac{d^2\\psi}{dx^2} + V(x)\\psi = E \\psi $$  \n",
        "## Reduction to dimensionless form  \n",
        " Assume natural length scale $l_0$. Let $x=l_0 y$. Substituting gives  \n",
        " $$ -\\frac{\\hbar^2}{2ml_0^2} \\frac{d^2\\psi}{dy^2} + V(x)\\psi = E \\psi $$  \n",
        " Use $E_0 = \\hbar^2/2ml_0^2$ as a natural energy scale. Dividing throughout by $E_0$ gives  \n",
        "  $$ -\\frac{d^2\\psi}{dy^2} + U(y)\\psi = \\epsilon \\psi $$  \n",
        "  where $U(y)=V(l_0 y)/E_0$ and $\\epsilon=E/E_0$. The wavefunction satisfies the constraint  \n",
        "  $$ \\int dx |\\psi|^2 = 1 $$.  \n",
        "  We define a dimensionless wavefunction $\\phi = \\sqrt{l_0}\\times \\psi$. This \n",
        "  satisfies  \n",
        "  $$ \\int dy |\\phi|^2 = 1 $$.\n",
        "  \n",
        "## Discretization  \n",
        "We assume that $x \\in [-L,L]$. Then, $y \\in [-\\tilde{L},\\tilde{L}]$ where $\\tilde{L}=L/l_0$.  \n",
        "Divide the interval $[-\\tilde{L},\\tilde{L}]$ into $N$ segments with lattice points labelled by an \n",
        "integer $i$ such that $y_i = i\\times \\Delta$ where $\\Delta = 2\\tilde{L}/N$. Using the symmetric difference for the \n",
        "second derivative in the eigenvalue equation gives (at $y_i$)  \n",
        "$$-\\frac{1}{\\Delta^2}\\left(\\phi_{i+1}-2\\phi_i+\\phi_{i-1}\\right) + U_i \\phi_i = \\epsilon \\phi_i $$  \n",
        "This equation can be cast in the matrix form  \n",
        "$$H \\phi = \\epsilon \\phi $$\n",
        "where the matrix $H$ has elements  \n",
        "$$H_{ij} = -\\frac{1}{\\Delta^2}\\left(\\delta_{i+1,j}-2\\delta_{i,j}+\\delta_{i-1,j}\\right) + U_i \\delta_{i,j} $$  \n",
        "At this point, the eigenvalues and eigenvectors of $H$ can be determined using numpy.  \n",
        "The normalization constraint on the eigenvectors $\\phi$ is  \n",
        " $$ \\int dy |\\phi|^2 = 1 $$  \n",
        " which, in discrete form, reduces to\n",
        " $$ \\Delta \\sum_i |\\phi_i|^2 = 1 $$"
      ]
    },
    {
      "cell_type": "markdown",
      "metadata": {
        "id": "brA5udEgy5pB"
      },
      "source": [
        "## Example: Harmonic Oscillator\n",
        "\n",
        "$$V(x) = \\frac{1}{2}m\\omega^2 x^2$$ \n",
        "The natural energy scale is $E_0 = \\hbar\\omega/2$. The associated length scale $l_0$ can be found using  $E_0 = \\hbar^2/2ml_0^2$, which gives $l_0 = \\sqrt{\\hbar/m\\omega}$. The dimensionless eigenvalue equation is  \n",
        "$$-\\frac{d^2\\phi}{dy^2} + y^2\\phi = \\epsilon \\phi $$ "
      ]
    },
    {
      "cell_type": "code",
      "execution_count": null,
      "metadata": {
        "id": "0n16fsEpy5pC"
      },
      "outputs": [],
      "source": [
        "import numpy as np\n",
        "from numpy import linalg as lin\n",
        "import matplotlib.pyplot as plt\n",
        "plt.style.use(\"seaborn-whitegrid\")\n",
        "%matplotlib inline\n",
        "import math"
      ]
    },
    {
      "cell_type": "code",
      "execution_count": null,
      "metadata": {
        "id": "628DsD_dy5pF"
      },
      "outputs": [],
      "source": [
        "delta = 0.01\n",
        "L = 6. \n",
        "N = int(L*100) # No. of lattice points is 2N+1\n",
        "x = np.arange(-L,L+delta,delta)\n"
      ]
    },
    {
      "cell_type": "code",
      "execution_count": null,
      "metadata": {
        "id": "6nEfJt5Uy5pG"
      },
      "outputs": [],
      "source": [
        "def kronecker(i,j):\n",
        "    return 1 if i==j else 0\n",
        "\n",
        "def V(z):\n",
        "    return z**2\n",
        "\n",
        "def h(i,j):\n",
        "    return (-kronecker(i+1,j) + 2*kronecker(i,j) - kronecker(i-1,j))/delta**2 + V(delta*i) * kronecker(i,j)"
      ]
    },
    {
      "cell_type": "code",
      "execution_count": null,
      "metadata": {
        "id": "eOu2oA9Zy5pI"
      },
      "outputs": [],
      "source": [
        "H = np.array( [[h(i,j) for i in range(-N,N+1)] for j in range(-N,N+1)] ) # The Hamiltonian matrix\n",
        "H_eigenvalues, H_eigenvectors = lin.eig(H)\n",
        "idx = H_eigenvalues.argsort() # Sorted indices (increasing order of eigenvalues)\n",
        "H_eigenvalues = H_eigenvalues[idx] # Sorted eigenvalues\n",
        "H_eigenvectors = H_eigenvectors[:,idx] # Sorted eigenvectors"
      ]
    },
    {
      "cell_type": "code",
      "execution_count": null,
      "metadata": {
        "id": "Ttdcf_QVy5pJ"
      },
      "outputs": [],
      "source": [
        "potential = 0.01*np.array([V(delta*i) for i in range(-N,N+1)]) # Values of U(y) stored at lattice points"
      ]
    },
    {
      "cell_type": "code",
      "execution_count": null,
      "metadata": {
        "colab": {
          "base_uri": "https://localhost:8080/",
          "height": 262
        },
        "id": "zdb2e3QOy5pK",
        "outputId": "8a7e5715-d550-4eba-e74f-d3240901b895"
      },
      "outputs": [
        {
          "data": {
            "image/png": "[encoded data removed]",
            "text/plain": [
              "<Figure size 432x288 with 1 Axes>"
            ]
          },
          "metadata": {
            "needs_background": "light"
          },
          "output_type": "display_data"
        }
      ],
      "source": [
        "psi = H_eigenvectors[:,0] # Ground state wavefunction\n",
        "plt.plot(x, psi, label=\"eigenfunction\")\n",
        "plt.plot(x, potential, label=\"Potential\")\n",
        "plt.legend();"
      ]
    },
    {
      "cell_type": "code",
      "execution_count": null,
      "metadata": {
        "colab": {
          "base_uri": "https://localhost:8080/"
        },
        "id": "vlQUv-Xmy5pO",
        "outputId": "d6455fb9-14d0-4dc7-b720-a9c2a41d996b"
      },
      "outputs": [
        {
          "data": {
            "text/plain": [
              "array([1.27831576e-10, 2.56110565e-10, 3.85282805e-10, ...,\n",
              "       3.85281370e-10, 2.56109662e-10, 1.27831266e-10])"
            ]
          },
          "execution_count": 44,
          "metadata": {},
          "output_type": "execute_result"
        }
      ],
      "source": [
        "psi.conj().T # Hermitian adjoint of psi"
      ]
    },
    {
      "cell_type": "code",
      "execution_count": null,
      "metadata": {
        "colab": {
          "base_uri": "https://localhost:8080/"
        },
        "id": "y6ALA-DZy5pP",
        "outputId": "a2e68795-95e9-4221-cb18-e83797e42124"
      },
      "outputs": [
        {
          "data": {
            "text/plain": [
              "1.0"
            ]
          },
          "execution_count": 45,
          "metadata": {},
          "output_type": "execute_result"
        }
      ],
      "source": [
        "np.dot(psi.conj().T, psi) # Normalization check "
      ]
    },
    {
      "cell_type": "code",
      "execution_count": null,
      "metadata": {
        "colab": {
          "base_uri": "https://localhost:8080/"
        },
        "id": "oFt75qFqy5pP",
        "outputId": "5459d483-9448-482a-a136-40869f0dd675"
      },
      "outputs": [
        {
          "name": "stdout",
          "output_type": "stream",
          "text": [
            "0.9999937499630622\n"
          ]
        }
      ],
      "source": [
        "energy_eigenvalue = H_eigenvalues[0]\n",
        "print(energy_eigenvalue) "
      ]
    },
    {
      "cell_type": "markdown",
      "metadata": {
        "id": "P9sWt299W6sl"
      },
      "source": [
        "## Exercise: Finite Square Well"
      ]
    },
    {
      "cell_type": "code",
      "execution_count": null,
      "metadata": {
        "id": "Mx0w293Uy5pQ"
      },
      "outputs": [],
      "source": [
        "delta = 0.01\n",
        "L = 10. \n",
        "N = int(L*100) # No. of lattice points is 2N+1\n",
        "x = np.arange(-L,L+delta,delta)\n",
        "V0 = 2"
      ]
    },
    {
      "cell_type": "code",
      "execution_count": null,
      "metadata": {
        "id": "khSMHAvyW6sm"
      },
      "outputs": [],
      "source": [
        "def kronecker(i,j):\n",
        "    return 1 if i==j else 0\n",
        "\n",
        "def V(z):\n",
        "    return -V0 if (z >= -0.5 and z < 0.5) else 0\n",
        "\n",
        "def h(i,j):\n",
        "    return (-kronecker(i+1,j) + 2*kronecker(i,j) - kronecker(i-1,j))/delta**2 + V(delta*i) * kronecker(i,j)"
      ]
    },
    {
      "cell_type": "code",
      "execution_count": null,
      "metadata": {
        "id": "1lJVrRQpW6sq"
      },
      "outputs": [],
      "source": [
        "H = np.array( [[h(i,j) for i in range(-N,N+1)] for j in range(-N,N+1)] ) # The Hamiltonian matrix\n",
        "H_eigenvalues, H_eigenvectors = lin.eig(H)\n",
        "idx = H_eigenvalues.argsort() # Sorted indices (increasing order of eigenvalues)\n",
        "H_eigenvalues = H_eigenvalues[idx] # Sorted eigenvalues\n",
        "H_eigenvectors = H_eigenvectors[:,idx] # Sorted eigenvectors"
      ]
    },
    {
      "cell_type": "code",
      "execution_count": null,
      "metadata": {
        "id": "Zomw2_85W6sr"
      },
      "outputs": [],
      "source": [
        "potential = 0.01 * np.array([V(delta*i) for i in range(-N,N+1)]) # Values of U(y) stored at lattice points"
      ]
    },
    {
      "cell_type": "code",
      "execution_count": null,
      "metadata": {
        "id": "4xUO-VlBW6sr",
        "outputId": "206c291d-dea8-4a4c-b34b-fc2b0c46ae99"
      },
      "outputs": [
        {
          "data": {
            "image/png": "[encoded data removed]",
            "text/plain": [
              "<Figure size 432x288 with 1 Axes>"
            ]
          },
          "metadata": {
            "needs_background": "light"
          },
          "output_type": "display_data"
        }
      ],
      "source": [
        "#fig = plt.figure(figsize=(100,100))\n",
        "psi = H_eigenvectors[:,0] # Ground state wavefunction\n",
        "plt.plot(x, psi, label=\"eigenfunction\")\n",
        "plt.plot(x, potential, label=\"Potential\")\n",
        "plt.legend();"
      ]
    },
    {
      "cell_type": "code",
      "execution_count": null,
      "metadata": {
        "id": "dbDCkzj0W6ss",
        "outputId": "67094605-897f-447a-8c50-f39c0a95808c"
      },
      "outputs": [
        {
          "data": {
            "text/plain": [
              "array([-5.64734871e-07, -1.12950452e-06, -1.69434373e-06, ...,\n",
              "       -1.68109911e-06, -1.12067523e-06, -5.60320359e-07])"
            ]
          },
          "execution_count": 53,
          "metadata": {},
          "output_type": "execute_result"
        }
      ],
      "source": [
        "psi.conj().T # Hermitian adjoint of psi"
      ]
    },
    {
      "cell_type": "code",
      "execution_count": null,
      "metadata": {
        "id": "knyWQkHwW6st",
        "outputId": "df0e7eab-08dd-4849-e665-1a3e6d91563d"
      },
      "outputs": [
        {
          "data": {
            "text/plain": [
              "1.0"
            ]
          },
          "execution_count": 54,
          "metadata": {},
          "output_type": "execute_result"
        }
      ],
      "source": [
        "np.dot(psi.conj().T, psi) # Normalization check"
      ]
    },
    {
      "cell_type": "code",
      "execution_count": null,
      "metadata": {
        "scrolled": true,
        "id": "VFQCNJ8AW6st",
        "outputId": "c39a3e15-6191-4674-f5c3-5dca86cb4151"
      },
      "outputs": [
        {
          "name": "stdout",
          "output_type": "stream",
          "text": [
            "-0.6158625868015505\n"
          ]
        }
      ],
      "source": [
        "energy_eigenvalue = H_eigenvalues[0]\n",
        "print(energy_eigenvalue)"
      ]
    },
    {
      "cell_type": "markdown",
      "metadata": {
        "id": "aAxo_BDMW6st"
      },
      "source": [
        "## Circular Lattice"
      ]
    },
    {
      "cell_type": "code",
      "execution_count": null,
      "metadata": {
        "id": "xgE0yANPW6st"
      },
      "outputs": [],
      "source": [
        "delta = 0.01\n",
        "L = 6. \n",
        "N = int(L*100) # No. of lattice points is 2N+1\n",
        "x = np.arange(-L,L+delta,delta)\n",
        "V0 = 2"
      ]
    },
    {
      "cell_type": "code",
      "execution_count": null,
      "metadata": {
        "id": "SNkx8fU7W6su"
      },
      "outputs": [],
      "source": [
        "def kronecker(i,j):\n",
        "    return 1 if i==j else 0\n",
        "\n",
        "def V(z):\n",
        "    return -V0 if (z >= -0.5 and z < 0.5) else 0\n",
        "\n",
        "def h(i,j):\n",
        "    return (-kronecker(i+1,j) + 2*kronecker(i,j) - kronecker(i-1,j))/delta**2 + V(delta*i) * kronecker(i,j)"
      ]
    },
    {
      "cell_type": "code",
      "execution_count": null,
      "metadata": {
        "id": "Exbr-MiCW6su"
      },
      "outputs": [],
      "source": [
        "H = np.array( [[h(i,j) for i in range(-N,N+1)] for j in range(-N,N+1)] ) # The Hamiltonian matrix\n",
        "H[0][2*N] = -1/delta**2\n",
        "H[2*N][0] = -1/delta**2\n",
        "H_eigenvalues, H_eigenvectors = lin.eig(H)\n",
        "idx = H_eigenvalues.argsort() # Sorted indices (increasing order of eigenvalues)\n",
        "H_eigenvalues = H_eigenvalues[idx] # Sorted eigenvalues\n",
        "H_eigenvectors = H_eigenvectors[:,idx] # Sorted eigenvectors"
      ]
    },
    {
      "cell_type": "code",
      "execution_count": null,
      "metadata": {
        "id": "ex9CRmtnW6su"
      },
      "outputs": [],
      "source": [
        "potential = 0.01 * np.array([V(delta*i) for i in range(-N,N+1)]) # Values of U(y) stored at lattice points"
      ]
    },
    {
      "cell_type": "code",
      "execution_count": null,
      "metadata": {
        "id": "s5VbqEQ0W6su",
        "outputId": "8abc7438-a1aa-4cf0-9a4e-eff4a5306f7d"
      },
      "outputs": [
        {
          "data": {
            "image/png": "[encoded data removed]",
            "text/plain": [
              "<Figure size 432x288 with 1 Axes>"
            ]
          },
          "metadata": {
            "needs_background": "light"
          },
          "output_type": "display_data"
        }
      ],
      "source": [
        "#fig = plt.figure(figsize=(100,100))\n",
        "psi = H_eigenvectors[:,0] # Ground state wavefunction\n",
        "plt.plot(x, psi, label=\"eigenfunction\")\n",
        "plt.plot(x, potential, label=\"Potential\")\n",
        "plt.legend();"
      ]
    },
    {
      "cell_type": "code",
      "execution_count": null,
      "metadata": {
        "id": "x3kURD2rW6sv",
        "outputId": "677cd4ca-920f-4f06-97b5-3bb72c83ef28"
      },
      "outputs": [
        {
          "data": {
            "text/plain": [
              "array([0.00165851, 0.00165866, 0.00165892, ..., 0.00165866, 0.00165851,\n",
              "       0.00165846])"
            ]
          },
          "execution_count": 23,
          "metadata": {},
          "output_type": "execute_result"
        }
      ],
      "source": [
        "psi.conj().T # Hermitian adjoint of psi"
      ]
    },
    {
      "cell_type": "code",
      "execution_count": null,
      "metadata": {
        "id": "bVg2yFiTW6sv",
        "outputId": "0fcc7ba2-ae2b-4058-f07c-a212029e92e7"
      },
      "outputs": [
        {
          "data": {
            "text/plain": [
              "1.0"
            ]
          },
          "execution_count": 24,
          "metadata": {},
          "output_type": "execute_result"
        }
      ],
      "source": [
        "np.dot(psi.conj().T, psi) # Normalization check"
      ]
    },
    {
      "cell_type": "code",
      "execution_count": null,
      "metadata": {
        "id": "LEhpgeFHW6sv",
        "outputId": "235d1266-15a6-4537-8428-fc87001d5cba"
      },
      "outputs": [
        {
          "name": "stdout",
          "output_type": "stream",
          "text": [
            "-0.6160791949534982\n"
          ]
        }
      ],
      "source": [
        "energy_eigenvalue = H_eigenvalues[0]\n",
        "print(energy_eigenvalue)"
      ]
    },
    {
      "cell_type": "markdown",
      "metadata": {
        "id": "Jnx01st4W6sv"
      },
      "source": [
        "## Crystal (Translationally Invariant/Periodic Potential)"
      ]
    },
    {
      "cell_type": "code",
      "execution_count": null,
      "metadata": {
        "id": "cAqpOwsFW6sw"
      },
      "outputs": [],
      "source": [
        "delta = 0.01\n",
        "L = 15. \n",
        "N = int(L*100) # No. of lattice points is 2N+1\n",
        "x = np.arange(-L,L+delta,delta)\n",
        "V0 = 50"
      ]
    },
    {
      "cell_type": "code",
      "execution_count": null,
      "metadata": {
        "id": "nXwPU27mW6sw"
      },
      "outputs": [],
      "source": [
        "def kronecker(i,j):\n",
        "    return 1 if i==j else 0\n",
        "\n",
        "def V(z):\n",
        "    return -V0 if (math.floor(z) % 2 == 0) else 0\n",
        "\n",
        "def h(i,j):\n",
        "    return (-kronecker(i+1,j) + 2*kronecker(i,j) - kronecker(i-1,j))/delta**2 + V(delta*i) * kronecker(i,j)"
      ]
    },
    {
      "cell_type": "code",
      "source": [],
      "metadata": {
        "id": "inC6ILf5CdhF"
      },
      "execution_count": null,
      "outputs": []
    },
    {
      "cell_type": "code",
      "execution_count": null,
      "metadata": {
        "id": "u4USzw5cW6sw"
      },
      "outputs": [],
      "source": [
        "H = np.array( [[h(i,j) for i in range(-N,N+1)] for j in range(-N,N+1)] ) # The Hamiltonian matrix\n",
        "H[0][2*N] = -1/delta**2\n",
        "H[2*N][0] = -1/delta**2\n",
        "H_eigenvalues, H_eigenvectors = lin.eig(H)\n",
        "idx = H_eigenvalues.argsort() # Sorted indices (increasing order of eigenvalues)\n",
        "H_eigenvalues = H_eigenvalues[idx] # Sorted eigenvalues\n",
        "H_eigenvectors = H_eigenvectors[:,idx] # Sorted eigenvectors"
      ]
    },
    {
      "cell_type": "code",
      "execution_count": null,
      "metadata": {
        "id": "GoQGvi8RW6sw"
      },
      "outputs": [],
      "source": [
        "potential = 0.01 * np.array([V(delta*i) for i in range(-N,N+1)]) # Values of U(y) stored at lattice points"
      ]
    },
    {
      "cell_type": "code",
      "execution_count": null,
      "metadata": {
        "colab": {
          "base_uri": "https://localhost:8080/",
          "height": 262
        },
        "id": "Qb-4XoO0W6sw",
        "outputId": "b30d925a-7a5c-4418-868c-602f8e097642"
      },
      "outputs": [
        {
          "output_type": "display_data",
          "data": {
            "text/plain": [
              "<Figure size 432x288 with 1 Axes>"
            ],
            "image/png": "[encoded data removed]"
          },
          "metadata": {
            "needs_background": "light"
          }
        }
      ],
      "source": [
        "#fig = plt.figure(figsize=(100,100))\n",
        "psi = H_eigenvectors[:,0 ] # Ground state wavefunction\n",
        "plt.plot(x, psi, label=\"eigenfunction\")\n",
        "plt.plot(x, potential, label=\"Potential\")\n",
        "plt.legend();"
      ]
    },
    {
      "cell_type": "code",
      "execution_count": null,
      "metadata": {
        "id": "9NK7tWr8W6sw",
        "outputId": "9e8e19e1-9101-485d-ef71-52e7f2c28046"
      },
      "outputs": [
        {
          "data": {
            "text/plain": [
              "array([-0.00625911, -0.00568348, -0.00516081, ..., -0.00828423,\n",
              "       -0.00759123, -0.00689306])"
            ]
          },
          "execution_count": 153,
          "metadata": {},
          "output_type": "execute_result"
        }
      ],
      "source": [
        "psi.conj().T # Hermitian adjoint of psi"
      ]
    },
    {
      "cell_type": "code",
      "execution_count": null,
      "metadata": {
        "id": "M1HBSJDZW6sw",
        "outputId": "5542eed4-4807-4034-e5da-354c59ea523f"
      },
      "outputs": [
        {
          "data": {
            "text/plain": [
              "1.0"
            ]
          },
          "execution_count": 154,
          "metadata": {},
          "output_type": "execute_result"
        }
      ],
      "source": [
        "np.dot(psi.conj().T, psi) # Normalization check"
      ]
    },
    {
      "cell_type": "code",
      "execution_count": null,
      "metadata": {
        "scrolled": true,
        "colab": {
          "base_uri": "https://localhost:8080/"
        },
        "id": "he_hU6hgW6sw",
        "outputId": "2fb6d63a-a27d-4c9d-f147-b5a46147f546"
      },
      "outputs": [
        {
          "output_type": "stream",
          "name": "stdout",
          "text": [
            "-73.06483818489781\n"
          ]
        }
      ],
      "source": [
        "energy_eigenvalue = H_eigenvalues[10]\n",
        "print(energy_eigenvalue)"
      ]
    },
    {
      "cell_type": "code",
      "execution_count": null,
      "metadata": {
        "colab": {
          "base_uri": "https://localhost:8080/",
          "height": 35
        },
        "id": "XCFmlBeNW6sx",
        "outputId": "0c8b0e72-790f-4d21-dec5-9788a6e318a3"
      },
      "outputs": [
        {
          "output_type": "display_data",
          "data": {
            "text/plain": [
              "<Figure size 1440x1440 with 0 Axes>"
            ]
          },
          "metadata": {}
        }
      ],
      "source": [
        "fig=plt.figure(figsize=(20,20))\n",
        "for i in range(len(H_eigenvalues)):\n",
        "    if H_eigenvalues[i] >= 0: \n",
        "        #plt.plot(i, H_eigenvalues[i], 'o')\n",
        "        plt.axhline(H_eigenvalues[i], lw=0.2)\n",
        "    else:\n",
        "        break"
      ]
    },
    {
      "cell_type": "markdown",
      "metadata": {
        "id": "ja4AV3RXW6sx"
      },
      "source": [
        "## Non Periodic Potential"
      ]
    },
    {
      "cell_type": "code",
      "execution_count": null,
      "metadata": {
        "id": "RJhdQycEW6sx"
      },
      "outputs": [],
      "source": [
        "delta = 0.01\n",
        "L = 10. \n",
        "N = int(L*100) # No. of lattice points is 2N+1\n",
        "x = np.arange(-L,L+delta,delta)\n",
        "V0 = 50"
      ]
    },
    {
      "cell_type": "code",
      "execution_count": null,
      "metadata": {
        "id": "N4HjiCsqW6sx"
      },
      "outputs": [],
      "source": [
        "potential = []\n",
        "flag = 0\n",
        "for i in range(-N,N+1):\n",
        "    if math.floor(delta*i) % 2 == 0:\n",
        "        if flag == 0:\n",
        "            temp = np.random.randint(0,2)\n",
        "        potential.append(-V0*temp)\n",
        "        flag = 1\n",
        "    else:\n",
        "        flag = 0\n",
        "        potential.append(0)"
      ]
    },
    {
      "cell_type": "code",
      "execution_count": null,
      "metadata": {
        "id": "c5rBhYUJW6sx"
      },
      "outputs": [],
      "source": [
        "def kronecker(i,j):\n",
        "    return 1 if i==j else 0\n",
        "\n",
        "#def V(z):\n",
        "#    return -V0 * np.random.randint(0,2) if (math.floor(z) % 2 == 0) else 0\n",
        "\n",
        "def h(i,j):\n",
        "    return (-kronecker(i+1,j) + 2*kronecker(i,j) - kronecker(i-1,j))/delta**2 + potential[i] * kronecker(i,j)"
      ]
    },
    {
      "cell_type": "code",
      "execution_count": null,
      "metadata": {
        "id": "_SLkHWVsW6sy"
      },
      "outputs": [],
      "source": [
        "H = np.array( [[h(i,j) for i in range(-N,N+1)] for j in range(-N,N+1)] ) # The Hamiltonian matrix\n",
        "H[0][2*N] = -1/delta**2\n",
        "H[2*N][0] = -1/delta**2\n",
        "H_eigenvalues, H_eigenvectors = lin.eig(H)\n",
        "idx = H_eigenvalues.argsort() # Sorted indices (increasing order of eigenvalues)\n",
        "H_eigenvalues = H_eigenvalues[idx] # Sorted eigenvalues\n",
        "H_eigenvectors = H_eigenvectors[:,idx] # Sorted eigenvectors"
      ]
    },
    {
      "cell_type": "code",
      "execution_count": null,
      "metadata": {
        "id": "SeS381VWW6sy"
      },
      "outputs": [],
      "source": [
        "potential = 0.01 * np.array([potential[i] for i in range(-N,N+1)]) # Values of U(y) stored at lattice points"
      ]
    },
    {
      "cell_type": "code",
      "execution_count": null,
      "metadata": {
        "id": "7aJl8MWiW6sy",
        "outputId": "ea30ab12-f66a-453c-d801-3cb4cefd8307",
        "colab": {
          "base_uri": "https://localhost:8080/",
          "height": 262
        }
      },
      "outputs": [
        {
          "output_type": "display_data",
          "data": {
            "text/plain": [
              "<Figure size 432x288 with 1 Axes>"
            ],
            "image/png": "[encoded data removed]"
          },
          "metadata": {
            "needs_background": "light"
          }
        }
      ],
      "source": [
        "#fig = plt.figure(figsize=(100,100))\n",
        "psi = H_eigenvectors[:,0] # Ground state wavefunction\n",
        "plt.plot(x, psi, label=\"eigenfunction\")\n",
        "plt.plot(x, potential, label=\"Potential\")\n",
        "plt.legend();"
      ]
    },
    {
      "cell_type": "code",
      "execution_count": null,
      "metadata": {
        "id": "LUcCBmsoW6sy",
        "outputId": "d2ae4ad9-ba1c-4e67-bd54-9ea7ad19951c"
      },
      "outputs": [
        {
          "data": {
            "text/plain": [
              "array([4.90472158e-11, 5.31166574e-11, 5.71497792e-11, ...,\n",
              "       3.70560637e-11, 4.08099940e-11, 4.49441038e-11])"
            ]
          },
          "execution_count": 140,
          "metadata": {},
          "output_type": "execute_result"
        }
      ],
      "source": [
        "psi.conj().T # Hermitian adjoint of psi"
      ]
    },
    {
      "cell_type": "code",
      "execution_count": null,
      "metadata": {
        "id": "igVgLNNaW6sy",
        "outputId": "f5e234d7-bd7d-4119-9c75-70dd1854f4b5"
      },
      "outputs": [
        {
          "data": {
            "text/plain": [
              "1.0"
            ]
          },
          "execution_count": 141,
          "metadata": {},
          "output_type": "execute_result"
        }
      ],
      "source": [
        "np.dot(psi.conj().T, psi) # Normalization check"
      ]
    },
    {
      "cell_type": "code",
      "execution_count": null,
      "metadata": {
        "id": "ZX1lb_g5W6sz",
        "outputId": "355a0b34-2237-4d67-9ec7-a90d9f9085b2"
      },
      "outputs": [
        {
          "name": "stdout",
          "output_type": "stream",
          "text": [
            "-93.17610588146755\n"
          ]
        }
      ],
      "source": [
        "energy_eigenvalue = H_eigenvalues[0]\n",
        "print(energy_eigenvalue)"
      ]
    },
    {
      "cell_type": "code",
      "execution_count": null,
      "metadata": {
        "id": "Z2aQlNJeW6sz",
        "outputId": "ef550d9f-7b49-4f37-9eeb-00e469640e49"
      },
      "outputs": [
        {
          "data": {
            "image/png": "[encoded data removed]",
            "text/plain": [
              "<Figure size 1440x1440 with 1 Axes>"
            ]
          },
          "metadata": {
            "needs_background": "light"
          },
          "output_type": "display_data"
        }
      ],
      "source": [
        "fig=plt.figure(figsize=(20,20))\n",
        "for i in range(len(H_eigenvalues)):\n",
        "    if H_eigenvalues[i] <= 0: \n",
        "        #plt.plot(i, H_eigenvalues[i], 'o')\n",
        "        plt.axhline(H_eigenvalues[i], lw=0.2)\n",
        "    else:\n",
        "        break"
      ]
    },
    {
      "cell_type": "markdown",
      "metadata": {
        "id": "XsQSlRDfW6sz"
      },
      "source": [
        "## Ammonia Molecule"
      ]
    },
    {
      "cell_type": "code",
      "execution_count": null,
      "metadata": {
        "id": "wMynWgxTW6sz"
      },
      "outputs": [],
      "source": [
        "delta = 0.01\n",
        "L = 2\n",
        "N = int(L*100) # No. of lattice points is 2N+1\n",
        "x = np.arange(-L,L+delta,delta)\n",
        "V0 = 300"
      ]
    },
    {
      "cell_type": "code",
      "execution_count": null,
      "metadata": {
        "id": "VFlwh62XW6s0"
      },
      "outputs": [],
      "source": [
        "def kronecker(i,j):\n",
        "    return 1 if i==j else 0\n",
        "\n",
        "def V(z):\n",
        "    return V0 * (z ** 2 - 1) ** 2\n",
        "def h(i,j):\n",
        "    return (-kronecker(i+1,j) + 2*kronecker(i,j) - kronecker(i-1,j))/delta**2 + V(delta*i) * kronecker(i,j)"
      ]
    },
    {
      "cell_type": "code",
      "execution_count": null,
      "metadata": {
        "id": "E3I6fVK9W6s0"
      },
      "outputs": [],
      "source": [
        "H = np.array( [[h(i,j) for i in range(-N,N+1)] for j in range(-N,N+1)] ) # The Hamiltonian matrix\n",
        "H_eigenvalues, H_eigenvectors = lin.eig(H)\n",
        "idx = H_eigenvalues.argsort() # Sorted indices (increasing order of eigenvalues)\n",
        "H_eigenvalues = H_eigenvalues[idx] # Sorted eigenvalues\n",
        "H_eigenvectors = H_eigenvectors[:,idx] # Sorted eigenvectors"
      ]
    },
    {
      "cell_type": "code",
      "execution_count": null,
      "metadata": {
        "id": "enfTE-GeW6s0"
      },
      "outputs": [],
      "source": [
        "potential = 0.0001 * np.array([V(delta*i) for i in range(-N,N+1)]) # Values of U(y) stored at lattice points"
      ]
    },
    {
      "cell_type": "code",
      "execution_count": null,
      "metadata": {
        "id": "csf2IWlfW6s0",
        "outputId": "bc853a0a-a1eb-4938-a323-1316acd79e49"
      },
      "outputs": [
        {
          "data": {
            "image/png": "[encoded data removed]",
            "text/plain": [
              "<Figure size 432x288 with 1 Axes>"
            ]
          },
          "metadata": {
            "needs_background": "light"
          },
          "output_type": "display_data"
        }
      ],
      "source": [
        "#fig = plt.figure(figsize=(100,100))\n",
        "psi = H_eigenvectors[:,0] # Ground state wavefunction\n",
        "plt.plot(x, psi, label=\"eigenfunction\")\n",
        "plt.plot(x, potential, label=\"Potential\")\n",
        "plt.legend();"
      ]
    }
  ],
  "metadata": {
    "colab": {
      "provenance": []
    },
    "kernelspec": {
      "display_name": "Python 3",
      "language": "python",
      "name": "python3"
    },
    "language_info": {
      "codemirror_mode": {
        "name": "ipython",
        "version": 3
      },
      "file_extension": ".py",
      "mimetype": "text/x-python",
      "name": "python",
      "nbconvert_exporter": "python",
      "pygments_lexer": "ipython3",
      "version": "3.8.5"
    },
    "latex_envs": {
      "LaTeX_envs_menu_present": true,
      "autoclose": true,
      "autocomplete": true,
      "bibliofile": "biblio.bib",
      "cite_by": "apalike",
      "current_citInitial": 1,
      "eqLabelWithNumbers": true,
      "eqNumInitial": 1,
      "hotkeys": {
        "equation": "Ctrl-E",
        "itemize": "Ctrl-I"
      },
      "labels_anchors": false,
      "latex_user_defs": false,
      "report_style_numbering": false,
      "user_envs_cfg": false
    }
  },
  "nbformat": 4,
  "nbformat_minor": 0
}