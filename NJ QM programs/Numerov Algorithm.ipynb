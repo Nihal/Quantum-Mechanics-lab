{
 "cells": [
  {
   "cell_type": "code",
   "execution_count": 1,
   "metadata": {},
   "outputs": [],
   "source": [
    "import numpy as np\n",
    "from numpy import linalg as lin\n",
    "import matplotlib.pyplot as plt\n",
    "plt.style.use(\"seaborn-whitegrid\")\n",
    "%matplotlib inline\n",
    "import math"
   ]
  },
  {
   "cell_type": "code",
   "execution_count": 2,
   "metadata": {},
   "outputs": [],
   "source": [
    "delta = 0.01\n",
    "L = 6. \n",
    "N = int(L*100) # No. of lattice points is 2N+1\n",
    "x = np.arange(-L,L+delta,delta)"
   ]
  },
  {
   "cell_type": "code",
   "execution_count": 6,
   "metadata": {},
   "outputs": [
    {
     "name": "stdout",
     "output_type": "stream",
     "text": [
      "[[36.      0.      0.     ...  0.      0.      0.    ]\n",
      " [ 0.     35.8801  0.     ...  0.      0.      0.    ]\n",
      " [ 0.      0.     35.7604 ...  0.      0.      0.    ]\n",
      " ...\n",
      " [ 0.      0.      0.     ... 35.7604  0.      0.    ]\n",
      " [ 0.      0.      0.     ...  0.     35.8801  0.    ]\n",
      " [ 0.      0.      0.     ...  0.      0.     36.    ]]\n",
      "[[0. 1. 0. ... 0. 0. 0.]\n",
      " [0. 0. 1. ... 0. 0. 0.]\n",
      " [0. 0. 0. ... 0. 0. 0.]\n",
      " ...\n",
      " [0. 0. 0. ... 0. 1. 0.]\n",
      " [0. 0. 0. ... 0. 0. 1.]\n",
      " [0. 0. 0. ... 0. 0. 0.]]\n",
      "[[0. 0. 0. ... 0. 0. 0.]\n",
      " [1. 0. 0. ... 0. 0. 0.]\n",
      " [0. 1. 0. ... 0. 0. 0.]\n",
      " ...\n",
      " [0. 0. 0. ... 0. 0. 0.]\n",
      " [0. 0. 0. ... 1. 0. 0.]\n",
      " [0. 0. 0. ... 0. 1. 0.]]\n",
      "[[-20000.  10000.      0. ...      0.      0.      0.]\n",
      " [ 10000. -20000.  10000. ...      0.      0.      0.]\n",
      " [     0.  10000. -20000. ...      0.      0.      0.]\n",
      " ...\n",
      " [     0.      0.      0. ... -20000.  10000.      0.]\n",
      " [     0.      0.      0. ...  10000. -20000.  10000.]\n",
      " [     0.      0.      0. ...      0.  10000. -20000.]]\n"
     ]
    }
   ],
   "source": [
    "def V(z):\n",
    "    return z**2\n",
    "\n",
    "V_mat = np.zeros([2 * N + 1, 2 * N + 1])\n",
    "for i in range(-N,N+1):\n",
    "    V_mat[i + N, i + N] = V(delta*i)\n",
    "print(V_mat)\n",
    "I_0 = np.identity(2*N+1)\n",
    "I_minus1 = np.zeros([2 * N + 1, 2 * N + 1])\n",
    "I_plus1 = np.zeros([2 * N + 1, 2 * N + 1])\n",
    "for i in range(2*N+1):\n",
    "    if i == 0:\n",
    "        I_plus1[i, i+1] = 1\n",
    "    elif i == 2*N:\n",
    "        I_minus1[i, i-1] = 1\n",
    "    else: \n",
    "        I_plus1[i, i+1] = 1\n",
    "        I_minus1[i, i-1] = 1\n",
    "print(I_plus1) \n",
    "print(I_minus1) \n",
    "\n",
    "A = (I_plus1 - 2 * I_0 + I_minus1) / (delta) ** 2\n",
    "print(A)\n",
    "B = (I_plus1 + 10 * I_0 + I_minus1) / 12"
   ]
  },
  {
   "cell_type": "code",
   "execution_count": 4,
   "metadata": {},
   "outputs": [],
   "source": [
    "H = -np.dot(np.linalg.inv(B),A) + V_mat\n",
    "H_eigenvalues, H_eigenvectors = lin.eig(H)\n",
    "idx = H_eigenvalues.argsort() # Sorted indices (increasing order of eigenvalues)\n",
    "H_eigenvalues = H_eigenvalues[idx] # Sorted eigenvalues\n",
    "H_eigenvectors = H_eigenvectors[:,idx] # Sorted eigenvectorsb"
   ]
  },
  {
   "cell_type": "code",
   "execution_count": 5,
   "metadata": {},
   "outputs": [],
   "source": [
    "potential = np.array([V(delta*i) for i in range(-N,N+1)]) # Values of U(y) stored at lattice points"
   ]
  },
  {
   "cell_type": "code",
   "execution_count": 10,
   "metadata": {},
   "outputs": [
    {
     "data": {
      "image/png": "[encoded data removed]",
      "text/plain": [
       "<Figure size 432x288 with 1 Axes>"
      ]
     },
     "metadata": {
      "needs_background": "light"
     },
     "output_type": "display_data"
    }
   ],
   "source": [
    "psi = H_eigenvectors[:,0] # Ground state wavefunction\n",
    "plt.plot(x, psi, label=\"eigenfunction\")\n",
    "plt.plot(x, 0.01 * potential, label=\"Potential\")\n",
    "plt.legend();"
   ]
  },
  {
   "cell_type": "code",
   "execution_count": 12,
   "metadata": {},
   "outputs": [
    {
     "data": {
      "text/plain": [
       "2.558835322304587e-10"
      ]
     },
     "execution_count": 12,
     "metadata": {},
     "output_type": "execute_result"
    }
   ],
   "source": [
    "psi[1]"
   ]
  },
  {
   "cell_type": "code",
   "execution_count": 9,
   "metadata": {},
   "outputs": [
    {
     "data": {
      "text/plain": [
       "1.0"
      ]
     },
     "execution_count": 9,
     "metadata": {},
     "output_type": "execute_result"
    }
   ],
   "source": [
    "np.dot(psi.conj().T, psi) # Normalization check "
   ]
  },
  {
   "cell_type": "code",
   "execution_count": 72,
   "metadata": {},
   "outputs": [
    {
     "name": "stdout",
     "output_type": "stream",
     "text": [
      "2.9999999994597273\n"
     ]
    }
   ],
   "source": [
    "energy_eigenvalue = H_eigenvalues[1]\n",
    "print(energy_eigenvalue) "
   ]
  },
  {
   "cell_type": "markdown",
   "metadata": {},
   "source": [
    "## Crystal (Translationally Invariant/Periodic Potential)"
   ]
  },
  {
   "cell_type": "code",
   "execution_count": 81,
   "metadata": {},
   "outputs": [],
   "source": [
    "delta = 0.01\n",
    "L = 15. \n",
    "N = int(L*100) # No. of lattice points is 2N+1\n",
    "x = np.arange(-L,L+delta,delta)\n",
    "V0 = 100"
   ]
  },
  {
   "cell_type": "code",
   "execution_count": 83,
   "metadata": {},
   "outputs": [],
   "source": [
    "def V(z):\n",
    "    return -V0 if (math.floor(z) % 2 == 0) else 0\n",
    "\n",
    "V_mat = np.zeros([2 * N + 1, 2 * N + 1])\n",
    "for i in range(-N,N+1):\n",
    "    V_mat[i + N, i + N] = V(delta*i)\n",
    "\n",
    "I_0 = np.identity(2*N+1)\n",
    "I_minus1 = np.zeros([2 * N + 1, 2 * N + 1])\n",
    "I_plus1 = np.zeros([2 * N + 1, 2 * N + 1])\n",
    "for i in range(2*N+1):\n",
    "    if i == 2*N:\n",
    "        I_plus1[i, 0] = 1\n",
    "        I_minus1[i, i-1] = 1\n",
    "    else:\n",
    "        I_plus1[i, i+1] = 1\n",
    "        I_minus1[i, i-1] = 1\n",
    "    \n",
    "A = (I_plus1 - 2 * I_0 + I_minus1) / (delta) ** 2\n",
    "B = (I_plus1 + 10 * I_0 + I_minus1) / 12"
   ]
  },
  {
   "cell_type": "code",
   "execution_count": 84,
   "metadata": {},
   "outputs": [],
   "source": [
    "H = -np.dot(np.linalg.inv(B),A) + V_mat\n",
    "H_eigenvalues, H_eigenvectors = lin.eig(H)\n",
    "idx = H_eigenvalues.argsort() # Sorted indices (increasing order of eigenvalues)\n",
    "H_eigenvalues = H_eigenvalues[idx] # Sorted eigenvalues\n",
    "H_eigenvectors = H_eigenvectors[:,idx] # Sorted eigenvectorsb"
   ]
  },
  {
   "cell_type": "code",
   "execution_count": 85,
   "metadata": {},
   "outputs": [],
   "source": [
    "potential = 0.01 * np.array([V(delta*i) for i in range(-N,N+1)]) # Values of U(y) stored at lattice points"
   ]
  },
  {
   "cell_type": "code",
   "execution_count": 86,
   "metadata": {},
   "outputs": [
    {
     "data": {
      "image/png": "[encoded data removed]",
      "text/plain": [
       "<Figure size 432x288 with 1 Axes>"
      ]
     },
     "metadata": {
      "needs_background": "light"
     },
     "output_type": "display_data"
    }
   ],
   "source": [
    "#fig = plt.figure(figsize=(100,100))\n",
    "psi = H_eigenvectors[:,0] # Ground state wavefunction\n",
    "plt.plot(x, psi, label=\"eigenfunction\")\n",
    "plt.plot(x, potential, label=\"Potential\")\n",
    "plt.legend();"
   ]
  },
  {
   "cell_type": "code",
   "execution_count": 87,
   "metadata": {},
   "outputs": [
    {
     "data": {
      "image/png": "[encoded data removed]",
      "text/plain": [
       "<Figure size 1440x1440 with 1 Axes>"
      ]
     },
     "metadata": {
      "needs_background": "light"
     },
     "output_type": "display_data"
    }
   ],
   "source": [
    "fig=plt.figure(figsize=(20,20))\n",
    "for i in range(len(H_eigenvalues)):\n",
    "    if H_eigenvalues[i] <= 0: \n",
    "        #plt.plot(i, H_eigenvalues[i], 'o')\n",
    "        plt.axhline(H_eigenvalues[i], lw=0.2)\n",
    "    else:\n",
    "        break"
   ]
  }
 ],
 "metadata": {
  "kernelspec": {
   "display_name": "Python 3 (ipykernel)",
   "language": "python",
   "name": "python3"
  },
  "language_info": {
   "codemirror_mode": {
    "name": "ipython",
    "version": 3
   },
   "file_extension": ".py",
   "mimetype": "text/x-python",
   "name": "python",
   "nbconvert_exporter": "python",
   "pygments_lexer": "ipython3",
   "version": "3.9.12"
  }
 },
 "nbformat": 4,
 "nbformat_minor": 4
}
